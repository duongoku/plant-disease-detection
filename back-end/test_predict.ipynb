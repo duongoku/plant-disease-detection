{
 "cells": [
  {
   "cell_type": "markdown",
   "metadata": {},
   "source": [
    "Imports"
   ]
  },
  {
   "cell_type": "code",
   "execution_count": 1,
   "metadata": {},
   "outputs": [],
   "source": [
    "from PIL import Image\n",
    "import os\n",
    "import torch\n",
    "import torch.nn as nn\n",
    "import torch.nn.functional as F\n",
    "import torchvision.transforms as transforms"
   ]
  },
  {
   "cell_type": "markdown",
   "metadata": {},
   "source": [
    "Rebuild model"
   ]
  },
  {
   "cell_type": "code",
   "execution_count": 2,
   "metadata": {},
   "outputs": [],
   "source": [
    "def accuracy(outputs, labels):\n",
    "    _, preds = torch.max(outputs, dim=1)\n",
    "    return torch.tensor(torch.sum(preds == labels).item() / len(preds))\n",
    "\n",
    "\n",
    "class ImageClassificationBase(nn.Module):\n",
    "    def validation_step(self, batch):\n",
    "        images, labels = batch\n",
    "        out = self(images)\n",
    "        loss = F.cross_entropy(out, labels)\n",
    "        acc = accuracy(out, labels)\n",
    "        return {\"val_loss\": loss.detach(), \"val_acc\": acc}\n",
    "\n",
    "    def validation_epoch_end(self, outputs):\n",
    "        batch_losses = [x[\"val_loss\"] for x in outputs]\n",
    "        epoch_loss = torch.stack(batch_losses).mean()\n",
    "        batch_accs = [x[\"val_acc\"] for x in outputs]\n",
    "        epoch_acc = torch.stack(batch_accs).mean()\n",
    "        return {\"val_loss\": epoch_loss.item(), \"val_acc\": epoch_acc.item()}\n",
    "\n",
    "\n",
    "def ConvBlock(in_channels, out_channels, pool=False):\n",
    "    layers = [\n",
    "        nn.Conv2d(in_channels, out_channels, kernel_size=3, padding=1),\n",
    "        nn.BatchNorm2d(out_channels),\n",
    "        nn.ReLU(inplace=True),\n",
    "    ]\n",
    "    if pool:\n",
    "        layers.append(nn.MaxPool2d(4))\n",
    "    return nn.Sequential(*layers)\n",
    "\n",
    "\n",
    "class CNN_NeuralNet(ImageClassificationBase):\n",
    "    def __init__(self, in_channels, num_diseases):\n",
    "        super().__init__()\n",
    "\n",
    "        self.conv1 = ConvBlock(in_channels, 64)\n",
    "        self.conv2 = ConvBlock(64, 128, pool=True)\n",
    "        self.res1 = nn.Sequential(ConvBlock(128, 128), ConvBlock(128, 128))\n",
    "\n",
    "        self.conv3 = ConvBlock(128, 256, pool=True)\n",
    "        self.conv4 = ConvBlock(256, 512, pool=True)\n",
    "\n",
    "        self.res2 = nn.Sequential(ConvBlock(512, 512), ConvBlock(512, 512))\n",
    "        self.classifier = nn.Sequential(\n",
    "            nn.MaxPool2d(4), nn.Flatten(), nn.Linear(512, num_diseases)\n",
    "        )\n",
    "\n",
    "    def forward(self, x):\n",
    "        out = self.conv1(x)\n",
    "        out = self.conv2(out)\n",
    "        out = self.res1(out) + out\n",
    "        out = self.conv3(out)\n",
    "        out = self.conv4(out)\n",
    "        out = self.res2(out) + out\n",
    "        out = self.classifier(out)\n",
    "        return out"
   ]
  },
  {
   "cell_type": "markdown",
   "metadata": {},
   "source": [
    "Predict"
   ]
  },
  {
   "cell_type": "code",
   "execution_count": 3,
   "metadata": {},
   "outputs": [],
   "source": [
    "def get_default_device():\n",
    "    if torch.cuda.is_available():\n",
    "        print(\"cuda available\")\n",
    "        return torch.device(\"cuda\")\n",
    "    else:\n",
    "        print(\"cuda not available\")\n",
    "        return torch.device(\"cpu\")\n",
    "\n",
    "\n",
    "def predict_image(image_path, model, class_names, device):\n",
    "    \"\"\"\n",
    "    Make prediction for a single image\n",
    "    \"\"\"\n",
    "    transform = transforms.ToTensor()\n",
    "    img = Image.open(image_path)\n",
    "    img = img.resize((256, 256))\n",
    "    img_tensor = transform(img)\n",
    "\n",
    "    img_tensor = img_tensor.unsqueeze(0).to(device)\n",
    "\n",
    "    model.eval()\n",
    "    with torch.no_grad():\n",
    "        outputs = model(img_tensor)\n",
    "        _, predicted = torch.max(outputs, 1)\n",
    "\n",
    "    return class_names[predicted.item()]"
   ]
  },
  {
   "cell_type": "markdown",
   "metadata": {},
   "source": [
    "Run"
   ]
  },
  {
   "cell_type": "code",
   "execution_count": 5,
   "metadata": {},
   "outputs": [
    {
     "name": "stdout",
     "output_type": "stream",
     "text": [
      "cuda available\n",
      "--------------------------------------------------\n",
      "Predicting images from Potato___Late_blight class with color modifier ...\n",
      "Accuracy: 100/100\n",
      "--------------------------------------------------\n",
      "Predicting images from Potato___Late_blight class with grayscale modifier ...\n",
      "Accuracy: 0/100\n",
      "--------------------------------------------------\n",
      "Predicting images from Potato___Late_blight class with segmented modifier ...\n",
      "Accuracy: 7/100\n",
      "--------------------------------------------------\n"
     ]
    }
   ],
   "source": [
    "def main():\n",
    "    device = get_default_device()\n",
    "    checkpoint = torch.load(\n",
    "        \"models/plant_disease_model_color_01.pth\", map_location=device\n",
    "    )\n",
    "\n",
    "    num_classes = len(checkpoint[\"class_names\"])\n",
    "    model = CNN_NeuralNet(3, num_classes)\n",
    "\n",
    "    model.load_state_dict(checkpoint[\"model_state_dict\"])\n",
    "    model = model.to(device)\n",
    "\n",
    "    print(\"-\" * 50)\n",
    "    modifiers = [\"color\", \"grayscale\", \"segmented\"]\n",
    "    labels = [\"Potato___Late_blight\"]\n",
    "    for modifier in modifiers:\n",
    "        for label in labels:\n",
    "            test_data_dir = f\"D:\\\\UET\\\\GRAD_SCHOOL\\\\AIE\\\\project\\\\data\\\\orignial_plantvillage_dataset\\\\{modifier}\\\\{label}\"\n",
    "            test_image_count = 100\n",
    "            accurate_predictions = 0\n",
    "            print(f\"Predicting images from {label} class with {modifier} modifier ...\")\n",
    "            for file_name in os.listdir(test_data_dir)[:test_image_count]:\n",
    "                image_path = os.path.join(test_data_dir, file_name)\n",
    "                prediction = predict_image(\n",
    "                    image_path, model, checkpoint[\"class_names\"], device\n",
    "                )\n",
    "                accurate_predictions += 1 if prediction == label else 0\n",
    "                # print(f\"Prediction: {prediction}\")\n",
    "            print(f\"Accuracy: {accurate_predictions}/{test_image_count}\")\n",
    "            print(\"-\" * 50)\n",
    "\n",
    "\n",
    "if __name__ == \"__main__\":\n",
    "    main()"
   ]
  },
  {
   "cell_type": "code",
   "execution_count": 6,
   "metadata": {},
   "outputs": [
    {
     "name": "stdout",
     "output_type": "stream",
     "text": [
      "cuda available\n",
      "--------------------------------------------------\n",
      "Predicting images from Potato___Late_blight class with color modifier ...\n",
      "Accuracy: 99/100\n",
      "--------------------------------------------------\n",
      "Predicting images from Potato___Late_blight class with grayscale modifier ...\n",
      "Accuracy: 97/100\n",
      "--------------------------------------------------\n",
      "Predicting images from Potato___Late_blight class with segmented modifier ...\n",
      "Accuracy: 100/100\n",
      "--------------------------------------------------\n"
     ]
    }
   ],
   "source": [
    "def main():\n",
    "    device = get_default_device()\n",
    "    checkpoint = torch.load(\n",
    "        \"models/plant_disease_model_color_gray_seg_01.pth\", map_location=device\n",
    "    )\n",
    "\n",
    "    num_classes = len(checkpoint[\"class_names\"])\n",
    "    model = CNN_NeuralNet(3, num_classes)\n",
    "\n",
    "    model.load_state_dict(checkpoint[\"model_state_dict\"])\n",
    "    model = model.to(device)\n",
    "\n",
    "    print(\"-\" * 50)\n",
    "    modifiers = [\"color\", \"grayscale\", \"segmented\"]\n",
    "    labels = [\"Potato___Late_blight\"]\n",
    "    for modifier in modifiers:\n",
    "        for label in labels:\n",
    "            test_data_dir = f\"D:\\\\UET\\\\GRAD_SCHOOL\\\\AIE\\\\project\\\\data\\\\orignial_plantvillage_dataset\\\\{modifier}\\\\{label}\"\n",
    "            test_image_count = 100\n",
    "            accurate_predictions = 0\n",
    "            print(f\"Predicting images from {label} class with {modifier} modifier ...\")\n",
    "            for file_name in os.listdir(test_data_dir)[:test_image_count]:\n",
    "                image_path = os.path.join(test_data_dir, file_name)\n",
    "                prediction = predict_image(\n",
    "                    image_path, model, checkpoint[\"class_names\"], device\n",
    "                )\n",
    "                accurate_predictions += 1 if prediction == label else 0\n",
    "                # print(f\"Prediction: {prediction}\")\n",
    "            print(f\"Accuracy: {accurate_predictions}/{test_image_count}\")\n",
    "            print(\"-\" * 50)\n",
    "\n",
    "\n",
    "if __name__ == \"__main__\":\n",
    "    main()"
   ]
  }
 ],
 "metadata": {
  "kernelspec": {
   "display_name": "venv",
   "language": "python",
   "name": "python3"
  },
  "language_info": {
   "codemirror_mode": {
    "name": "ipython",
    "version": 3
   },
   "file_extension": ".py",
   "mimetype": "text/x-python",
   "name": "python",
   "nbconvert_exporter": "python",
   "pygments_lexer": "ipython3",
   "version": "3.10.11"
  }
 },
 "nbformat": 4,
 "nbformat_minor": 2
}
